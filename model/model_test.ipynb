{
 "cells": [
  {
   "cell_type": "markdown",
   "metadata": {},
   "source": [
    "# 基于瓜子二手车数据的二手电动车价格分析以及折价率分析模型"
   ]
  },
  {
   "cell_type": "code",
   "execution_count": 417,
   "metadata": {},
   "outputs": [],
   "source": [
    "import numpy as np\n",
    "import pandas as pd\n",
    "import warnings\n",
    "import matplotlib\n",
    "import matplotlib.pyplot as plt\n",
    "import seaborn as sns\n",
    "from scipy.special import jn\n",
    "from IPython.display import display, clear_output\n",
    "import time\n",
    "\n",
    "warnings.filterwarnings('ignore')\n",
    "%matplotlib inline\n",
    "\n",
    "## 模型预测的\n",
    "from sklearn import linear_model\n",
    "from sklearn import preprocessing\n",
    "from sklearn.svm import SVR\n",
    "from sklearn.ensemble import RandomForestRegressor,GradientBoostingRegressor\n",
    "\n",
    "## 数据降维处理的\n",
    "from sklearn.decomposition import PCA,FastICA,FactorAnalysis,SparsePCA\n",
    "\n",
    "import lightgbm as lgb\n",
    "import xgboost as xgb\n",
    "\n",
    "## 参数搜索和评价的\n",
    "from sklearn.model_selection import GridSearchCV,cross_val_score,StratifiedKFold,train_test_split\n",
    "from sklearn.metrics import mean_squared_error, mean_absolute_error"
   ]
  },
  {
   "cell_type": "markdown",
   "metadata": {},
   "source": [
    "## 数据读取"
   ]
  },
  {
   "cell_type": "code",
   "execution_count": 418,
   "metadata": {},
   "outputs": [
    {
     "name": "stdout",
     "output_type": "stream",
     "text": [
      "(684, 14)\n"
     ]
    },
    {
     "data": {
      "text/html": [
       "<div>\n",
       "<style scoped>\n",
       "    .dataframe tbody tr th:only-of-type {\n",
       "        vertical-align: middle;\n",
       "    }\n",
       "\n",
       "    .dataframe tbody tr th {\n",
       "        vertical-align: top;\n",
       "    }\n",
       "\n",
       "    .dataframe thead th {\n",
       "        text-align: right;\n",
       "    }\n",
       "</style>\n",
       "<table border=\"1\" class=\"dataframe\">\n",
       "  <thead>\n",
       "    <tr style=\"text-align: right;\">\n",
       "      <th></th>\n",
       "      <th>car_name</th>\n",
       "      <th>car_brand</th>\n",
       "      <th>car_tag</th>\n",
       "      <th>price</th>\n",
       "      <th>new_price</th>\n",
       "      <th>complexOutlook</th>\n",
       "      <th>firstCert</th>\n",
       "      <th>odograph</th>\n",
       "      <th>allPower</th>\n",
       "      <th>carBelong</th>\n",
       "      <th>range</th>\n",
       "      <th>isDome</th>\n",
       "      <th>wheelBase</th>\n",
       "      <th>drivingMode</th>\n",
       "    </tr>\n",
       "  </thead>\n",
       "  <tbody>\n",
       "    <tr>\n",
       "      <th>0</th>\n",
       "      <td>比亚迪 汉 2020款 EV 四驱高性能版旗舰型</td>\n",
       "      <td>比亚迪</td>\n",
       "      <td>汉</td>\n",
       "      <td>229000</td>\n",
       "      <td>303388</td>\n",
       "      <td>9成新</td>\n",
       "      <td>2020-08</td>\n",
       "      <td>1.9万公里</td>\n",
       "      <td>363kW</td>\n",
       "      <td>成都(川)</td>\n",
       "      <td>550km</td>\n",
       "      <td>1</td>\n",
       "      <td>2920</td>\n",
       "      <td>双电机四驱</td>\n",
       "    </tr>\n",
       "    <tr>\n",
       "      <th>1</th>\n",
       "      <td>大众 ID.4 X 2021款 Pro 极智长续航版</td>\n",
       "      <td>大众</td>\n",
       "      <td>ID.4 X</td>\n",
       "      <td>189800</td>\n",
       "      <td>256049</td>\n",
       "      <td>9成新</td>\n",
       "      <td>2021-12</td>\n",
       "      <td>300公里</td>\n",
       "      <td>150kW</td>\n",
       "      <td>德州(鲁)</td>\n",
       "      <td>555km</td>\n",
       "      <td>0</td>\n",
       "      <td>2765</td>\n",
       "      <td>后置后驱</td>\n",
       "    </tr>\n",
       "    <tr>\n",
       "      <th>2</th>\n",
       "      <td>宝马i3 2018款 豪华型(进口)</td>\n",
       "      <td>宝马</td>\n",
       "      <td>宝马i3</td>\n",
       "      <td>138000</td>\n",
       "      <td>368842</td>\n",
       "      <td>8成新</td>\n",
       "      <td>2018-12</td>\n",
       "      <td>6.2万公里</td>\n",
       "      <td>125kW</td>\n",
       "      <td>上海(沪)</td>\n",
       "      <td>271km</td>\n",
       "      <td>0</td>\n",
       "      <td>2570</td>\n",
       "      <td>后置后驱</td>\n",
       "    </tr>\n",
       "    <tr>\n",
       "      <th>3</th>\n",
       "      <td>特斯拉MODEL S 2014款 MODEL S 85</td>\n",
       "      <td>特斯拉</td>\n",
       "      <td>特斯拉MODEL S</td>\n",
       "      <td>285000</td>\n",
       "      <td>796735</td>\n",
       "      <td>7成新</td>\n",
       "      <td>2015-02</td>\n",
       "      <td>4.7万公里</td>\n",
       "      <td>270kW</td>\n",
       "      <td>烟台(鲁)</td>\n",
       "      <td>502km</td>\n",
       "      <td>0</td>\n",
       "      <td>2960</td>\n",
       "      <td>后置后驱</td>\n",
       "    </tr>\n",
       "    <tr>\n",
       "      <th>4</th>\n",
       "      <td>江淮iEVA50 2018款 iEVA50 豪华型</td>\n",
       "      <td>江淮</td>\n",
       "      <td>江淮iEVA50</td>\n",
       "      <td>76000</td>\n",
       "      <td>199400</td>\n",
       "      <td>9成新</td>\n",
       "      <td>2019-01</td>\n",
       "      <td>100公里</td>\n",
       "      <td>85kW</td>\n",
       "      <td>合肥(皖)</td>\n",
       "      <td>310km</td>\n",
       "      <td>1</td>\n",
       "      <td>2710</td>\n",
       "      <td>前置前驱</td>\n",
       "    </tr>\n",
       "  </tbody>\n",
       "</table>\n",
       "</div>"
      ],
      "text/plain": [
       "                      car_name car_brand     car_tag   price  new_price  \\\n",
       "0     比亚迪 汉 2020款 EV 四驱高性能版旗舰型       比亚迪           汉  229000     303388   \n",
       "1   大众 ID.4 X 2021款 Pro 极智长续航版        大众      ID.4 X  189800     256049   \n",
       "2           宝马i3 2018款 豪华型(进口)        宝马        宝马i3  138000     368842   \n",
       "3  特斯拉MODEL S 2014款 MODEL S 85       特斯拉  特斯拉MODEL S  285000     796735   \n",
       "4    江淮iEVA50 2018款 iEVA50 豪华型        江淮    江淮iEVA50   76000     199400   \n",
       "\n",
       "  complexOutlook firstCert odograph allPower carBelong  range  isDome  \\\n",
       "0            9成新   2020-08   1.9万公里    363kW     成都(川)  550km       1   \n",
       "1            9成新   2021-12    300公里    150kW     德州(鲁)  555km       0   \n",
       "2            8成新   2018-12   6.2万公里    125kW     上海(沪)  271km       0   \n",
       "3            7成新   2015-02   4.7万公里    270kW     烟台(鲁)  502km       0   \n",
       "4            9成新   2019-01    100公里     85kW     合肥(皖)  310km       1   \n",
       "\n",
       "   wheelBase drivingMode  \n",
       "0       2920       双电机四驱  \n",
       "1       2765        后置后驱  \n",
       "2       2570        后置后驱  \n",
       "3       2960        后置后驱  \n",
       "4       2710        前置前驱  "
      ]
     },
     "execution_count": 418,
     "metadata": {},
     "output_type": "execute_result"
    }
   ],
   "source": [
    "allData = pd.read_csv('../crawl_for_guazi/data.csv')\n",
    "print(allData.shape)\n",
    "allData.head()"
   ]
  },
  {
   "cell_type": "code",
   "execution_count": 419,
   "metadata": {},
   "outputs": [
    {
     "name": "stdout",
     "output_type": "stream",
     "text": [
      "<class 'pandas.core.frame.DataFrame'>\n",
      "RangeIndex: 684 entries, 0 to 683\n",
      "Data columns (total 14 columns):\n",
      " #   Column          Non-Null Count  Dtype \n",
      "---  ------          --------------  ----- \n",
      " 0   car_name        684 non-null    object\n",
      " 1   car_brand       684 non-null    object\n",
      " 2   car_tag         684 non-null    object\n",
      " 3   price           684 non-null    int64 \n",
      " 4   new_price       684 non-null    int64 \n",
      " 5   complexOutlook  684 non-null    object\n",
      " 6   firstCert       684 non-null    object\n",
      " 7   odograph        684 non-null    object\n",
      " 8   allPower        684 non-null    object\n",
      " 9   carBelong       684 non-null    object\n",
      " 10  range           684 non-null    object\n",
      " 11  isDome          684 non-null    int64 \n",
      " 12  wheelBase       684 non-null    int64 \n",
      " 13  drivingMode     684 non-null    object\n",
      "dtypes: int64(4), object(10)\n",
      "memory usage: 74.9+ KB\n"
     ]
    }
   ],
   "source": [
    "allData.info()"
   ]
  },
  {
   "cell_type": "code",
   "execution_count": 420,
   "metadata": {},
   "outputs": [
    {
     "data": {
      "text/html": [
       "<div>\n",
       "<style scoped>\n",
       "    .dataframe tbody tr th:only-of-type {\n",
       "        vertical-align: middle;\n",
       "    }\n",
       "\n",
       "    .dataframe tbody tr th {\n",
       "        vertical-align: top;\n",
       "    }\n",
       "\n",
       "    .dataframe thead th {\n",
       "        text-align: right;\n",
       "    }\n",
       "</style>\n",
       "<table border=\"1\" class=\"dataframe\">\n",
       "  <thead>\n",
       "    <tr style=\"text-align: right;\">\n",
       "      <th></th>\n",
       "      <th>price</th>\n",
       "      <th>new_price</th>\n",
       "      <th>isDome</th>\n",
       "      <th>wheelBase</th>\n",
       "    </tr>\n",
       "  </thead>\n",
       "  <tbody>\n",
       "    <tr>\n",
       "      <th>count</th>\n",
       "      <td>684.000000</td>\n",
       "      <td>684.000000</td>\n",
       "      <td>684.000000</td>\n",
       "      <td>684.000000</td>\n",
       "    </tr>\n",
       "    <tr>\n",
       "      <th>mean</th>\n",
       "      <td>118067.084795</td>\n",
       "      <td>186476.032164</td>\n",
       "      <td>0.790936</td>\n",
       "      <td>2530.099415</td>\n",
       "    </tr>\n",
       "    <tr>\n",
       "      <th>std</th>\n",
       "      <td>91347.301067</td>\n",
       "      <td>125929.087693</td>\n",
       "      <td>0.406938</td>\n",
       "      <td>355.928549</td>\n",
       "    </tr>\n",
       "    <tr>\n",
       "      <th>min</th>\n",
       "      <td>14300.000000</td>\n",
       "      <td>0.000000</td>\n",
       "      <td>0.000000</td>\n",
       "      <td>1600.000000</td>\n",
       "    </tr>\n",
       "    <tr>\n",
       "      <th>25%</th>\n",
       "      <td>48950.000000</td>\n",
       "      <td>80107.000000</td>\n",
       "      <td>1.000000</td>\n",
       "      <td>2390.000000</td>\n",
       "    </tr>\n",
       "    <tr>\n",
       "      <th>50%</th>\n",
       "      <td>82650.000000</td>\n",
       "      <td>162711.500000</td>\n",
       "      <td>1.000000</td>\n",
       "      <td>2610.000000</td>\n",
       "    </tr>\n",
       "    <tr>\n",
       "      <th>75%</th>\n",
       "      <td>189050.000000</td>\n",
       "      <td>272368.750000</td>\n",
       "      <td>1.000000</td>\n",
       "      <td>2830.000000</td>\n",
       "    </tr>\n",
       "    <tr>\n",
       "      <th>max</th>\n",
       "      <td>648000.000000</td>\n",
       "      <td>905173.000000</td>\n",
       "      <td>1.000000</td>\n",
       "      <td>3110.000000</td>\n",
       "    </tr>\n",
       "  </tbody>\n",
       "</table>\n",
       "</div>"
      ],
      "text/plain": [
       "               price      new_price      isDome    wheelBase\n",
       "count     684.000000     684.000000  684.000000   684.000000\n",
       "mean   118067.084795  186476.032164    0.790936  2530.099415\n",
       "std     91347.301067  125929.087693    0.406938   355.928549\n",
       "min     14300.000000       0.000000    0.000000  1600.000000\n",
       "25%     48950.000000   80107.000000    1.000000  2390.000000\n",
       "50%     82650.000000  162711.500000    1.000000  2610.000000\n",
       "75%    189050.000000  272368.750000    1.000000  2830.000000\n",
       "max    648000.000000  905173.000000    1.000000  3110.000000"
      ]
     },
     "execution_count": 420,
     "metadata": {},
     "output_type": "execute_result"
    }
   ],
   "source": [
    "allData.describe()"
   ]
  },
  {
   "cell_type": "markdown",
   "metadata": {},
   "source": [
    "## 数据清洗\n",
    "\n",
    "1. 该部分目的为将带单位的属性变为纯数字型属性，如将“7成新”变为“7”，以及时间属性，里程去单位\n",
    "2. 具体的：\n",
    "   1. 将成色属性去除尾部中文，并转换为float类型\n",
    "   2. 将上牌年月属性转为时间单位，并增加一列“使用时间“，表示从首次上牌至今的天数\n",
    "   3. 表显里程以纯数字形式显示，注意列表中带有”万“时需乘10000\n",
    "   4. 车辆总功率去单位\n",
    "   5. 续航里程去单位"
   ]
  },
  {
   "cell_type": "markdown",
   "metadata": {},
   "source": [
    "### 1. 处理外观成色属性字段，将其转换为float类型"
   ]
  },
  {
   "cell_type": "code",
   "execution_count": 421,
   "metadata": {},
   "outputs": [
    {
     "data": {
      "text/plain": [
       "count    684.000000\n",
       "mean       8.646491\n",
       "std        0.792813\n",
       "min        6.000000\n",
       "25%        8.000000\n",
       "50%        9.000000\n",
       "75%        9.000000\n",
       "max        9.900000\n",
       "Name: complexOutlook, dtype: float64"
      ]
     },
     "execution_count": 421,
     "metadata": {},
     "output_type": "execute_result"
    }
   ],
   "source": [
    "def dealOutlookStr(str):\n",
    "    if type(str) is float:\n",
    "        return str\n",
    "    str = str.rstrip('成新')\n",
    "    if len(str) > 1 and '.' not in str:\n",
    "        str = float(str) / 10\n",
    "    return str\n",
    "\n",
    "allData['complexOutlook'] = allData['complexOutlook'].map(lambda x: np.float(dealOutlookStr(x)))\n",
    "allData['complexOutlook'].describe()"
   ]
  },
  {
   "cell_type": "markdown",
   "metadata": {},
   "source": [
    "### 2. 将首次上牌修改为pandas.datetime形式，并新增一列表示从上牌至数据获取时(2022-01-26)的天数\n",
    "\n"
   ]
  },
  {
   "cell_type": "code",
   "execution_count": 422,
   "metadata": {},
   "outputs": [
    {
     "data": {
      "text/plain": [
       "0       543\n",
       "1        56\n",
       "2      1152\n",
       "3      2551\n",
       "4      1121\n",
       "       ... \n",
       "679    1578\n",
       "680     117\n",
       "681     178\n",
       "682     239\n",
       "683     970\n",
       "Name: daysGone, Length: 684, dtype: int64"
      ]
     },
     "execution_count": 422,
     "metadata": {},
     "output_type": "execute_result"
    }
   ],
   "source": [
    "allData['firstCert'] = pd.to_datetime(allData['firstCert'],format='%Y-%m')\n",
    "allData['daysGone'] = ((pd.to_datetime('2022-01-26') - allData['firstCert']).dt.days)\n",
    "allData['daysGone']"
   ]
  },
  {
   "cell_type": "markdown",
   "metadata": {},
   "source": [
    "### 3. 处理表显里程数"
   ]
  },
  {
   "cell_type": "code",
   "execution_count": 423,
   "metadata": {},
   "outputs": [
    {
     "data": {
      "text/plain": [
       "count       684.000000\n",
       "mean      21844.444444\n",
       "std       19784.169577\n",
       "min         100.000000\n",
       "25%        6000.000000\n",
       "50%       17000.000000\n",
       "75%       32250.000000\n",
       "max      107000.000000\n",
       "Name: odograph, dtype: float64"
      ]
     },
     "execution_count": 423,
     "metadata": {},
     "output_type": "execute_result"
    }
   ],
   "source": [
    "def dealOdograph(str):\n",
    "    if type(str) is float:\n",
    "        return str\n",
    "    str = str.rstrip('公里')\n",
    "    if '万' in str:\n",
    "        str = str.rstrip('万')\n",
    "        str = float(str) * 10000\n",
    "    return float(str)\n",
    "\n",
    "allData['odograph'] = allData['odograph'].map(dealOdograph)\n",
    "allData['odograph'].describe()"
   ]
  },
  {
   "cell_type": "markdown",
   "metadata": {},
   "source": [
    "### 4. 处理车辆总功率"
   ]
  },
  {
   "cell_type": "code",
   "execution_count": 424,
   "metadata": {},
   "outputs": [],
   "source": [
    "allData['allPower'] = allData['allPower'].map(lambda x: float(x.rstrip('kW')))"
   ]
  },
  {
   "cell_type": "code",
   "execution_count": 425,
   "metadata": {},
   "outputs": [],
   "source": [
    "# 处理车辆续航里程\n",
    "allData['range'].describe()\n",
    "# temp = allData['range'].map(lambda x: 'km' in x)\n",
    "# temp.unique()\n",
    "def dealRange(str):\n",
    "    if str is '-' or str is None:\n",
    "        return None\n",
    "    if type(str) is int:\n",
    "        return str\n",
    "    str = str.rstrip('km')\n",
    "    return int(str)\n",
    "allData['range'] = allData['range'].map(dealRange)"
   ]
  },
  {
   "cell_type": "markdown",
   "metadata": {},
   "source": [
    "### 5. 删除new_price为0的行"
   ]
  },
  {
   "cell_type": "code",
   "execution_count": 426,
   "metadata": {},
   "outputs": [],
   "source": [
    "allData = allData.drop(index=allData[allData['new_price'] == 0].index)"
   ]
  },
  {
   "cell_type": "markdown",
   "metadata": {},
   "source": [
    "### 6. 添加损耗价格与损耗价格率\n",
    "depreciation = new_price - price  \n",
    "%depreciation = depriciation / new_price"
   ]
  },
  {
   "cell_type": "code",
   "execution_count": 427,
   "metadata": {},
   "outputs": [],
   "source": [
    "def depri(df):\n",
    "    return df['new_price'] - df['price'] if df['new_price'] - df['price'] > 0 else 0\n",
    "\n",
    "def depri_per(df):\n",
    "    return df['depri'] / df['new_price'] if df['new_price'] > 0 else 0\n",
    "\n",
    "def preserve_per(df):\n",
    "    return df['price'] / df['new_price'] if df['new_price'] > 0 else 0\n",
    "\n",
    "allData['depri'] = allData.apply(depri, axis=1)\n",
    "allData['depri_ratio'] = allData.apply(depri_per, axis=1)\n",
    "allData['preserve_ratio'] = allData.apply(preserve_per, axis=1)"
   ]
  },
  {
   "cell_type": "markdown",
   "metadata": {},
   "source": [
    "### 7. 清洗后的数据描述"
   ]
  },
  {
   "cell_type": "code",
   "execution_count": 428,
   "metadata": {},
   "outputs": [
    {
     "data": {
      "text/html": [
       "<div>\n",
       "<style scoped>\n",
       "    .dataframe tbody tr th:only-of-type {\n",
       "        vertical-align: middle;\n",
       "    }\n",
       "\n",
       "    .dataframe tbody tr th {\n",
       "        vertical-align: top;\n",
       "    }\n",
       "\n",
       "    .dataframe thead th {\n",
       "        text-align: right;\n",
       "    }\n",
       "</style>\n",
       "<table border=\"1\" class=\"dataframe\">\n",
       "  <thead>\n",
       "    <tr style=\"text-align: right;\">\n",
       "      <th></th>\n",
       "      <th>price</th>\n",
       "      <th>new_price</th>\n",
       "      <th>complexOutlook</th>\n",
       "      <th>odograph</th>\n",
       "      <th>allPower</th>\n",
       "      <th>range</th>\n",
       "      <th>isDome</th>\n",
       "      <th>wheelBase</th>\n",
       "      <th>daysGone</th>\n",
       "      <th>depri</th>\n",
       "      <th>depri_ratio</th>\n",
       "      <th>preserve_ratio</th>\n",
       "    </tr>\n",
       "  </thead>\n",
       "  <tbody>\n",
       "    <tr>\n",
       "      <th>count</th>\n",
       "      <td>681.000000</td>\n",
       "      <td>681.000000</td>\n",
       "      <td>681.000000</td>\n",
       "      <td>681.000000</td>\n",
       "      <td>681.000000</td>\n",
       "      <td>677.000000</td>\n",
       "      <td>681.000000</td>\n",
       "      <td>681.000000</td>\n",
       "      <td>681.000000</td>\n",
       "      <td>681.000000</td>\n",
       "      <td>681.000000</td>\n",
       "      <td>681.000000</td>\n",
       "    </tr>\n",
       "    <tr>\n",
       "      <th>mean</th>\n",
       "      <td>117956.073421</td>\n",
       "      <td>187297.512482</td>\n",
       "      <td>8.643612</td>\n",
       "      <td>21939.794420</td>\n",
       "      <td>115.016740</td>\n",
       "      <td>359.274742</td>\n",
       "      <td>0.790015</td>\n",
       "      <td>2528.073421</td>\n",
       "      <td>621.754772</td>\n",
       "      <td>69433.723935</td>\n",
       "      <td>0.347268</td>\n",
       "      <td>0.653156</td>\n",
       "    </tr>\n",
       "    <tr>\n",
       "      <th>std</th>\n",
       "      <td>91533.066291</td>\n",
       "      <td>125594.625687</td>\n",
       "      <td>0.792868</td>\n",
       "      <td>19775.342325</td>\n",
       "      <td>90.220023</td>\n",
       "      <td>145.652251</td>\n",
       "      <td>0.407597</td>\n",
       "      <td>355.396680</td>\n",
       "      <td>458.832451</td>\n",
       "      <td>66082.538336</td>\n",
       "      <td>0.211918</td>\n",
       "      <td>0.212764</td>\n",
       "    </tr>\n",
       "    <tr>\n",
       "      <th>min</th>\n",
       "      <td>14300.000000</td>\n",
       "      <td>31261.000000</td>\n",
       "      <td>6.000000</td>\n",
       "      <td>100.000000</td>\n",
       "      <td>15.000000</td>\n",
       "      <td>100.000000</td>\n",
       "      <td>0.000000</td>\n",
       "      <td>1600.000000</td>\n",
       "      <td>25.000000</td>\n",
       "      <td>0.000000</td>\n",
       "      <td>0.000000</td>\n",
       "      <td>0.069778</td>\n",
       "    </tr>\n",
       "    <tr>\n",
       "      <th>25%</th>\n",
       "      <td>48800.000000</td>\n",
       "      <td>80107.000000</td>\n",
       "      <td>8.000000</td>\n",
       "      <td>6000.000000</td>\n",
       "      <td>35.000000</td>\n",
       "      <td>270.000000</td>\n",
       "      <td>1.000000</td>\n",
       "      <td>2390.000000</td>\n",
       "      <td>270.000000</td>\n",
       "      <td>20307.000000</td>\n",
       "      <td>0.178162</td>\n",
       "      <td>0.537776</td>\n",
       "    </tr>\n",
       "    <tr>\n",
       "      <th>50%</th>\n",
       "      <td>82400.000000</td>\n",
       "      <td>164774.000000</td>\n",
       "      <td>9.000000</td>\n",
       "      <td>17000.000000</td>\n",
       "      <td>100.000000</td>\n",
       "      <td>353.000000</td>\n",
       "      <td>1.000000</td>\n",
       "      <td>2610.000000</td>\n",
       "      <td>482.000000</td>\n",
       "      <td>54793.000000</td>\n",
       "      <td>0.297215</td>\n",
       "      <td>0.702785</td>\n",
       "    </tr>\n",
       "    <tr>\n",
       "      <th>75%</th>\n",
       "      <td>189800.000000</td>\n",
       "      <td>273256.000000</td>\n",
       "      <td>9.000000</td>\n",
       "      <td>33000.000000</td>\n",
       "      <td>160.000000</td>\n",
       "      <td>468.000000</td>\n",
       "      <td>1.000000</td>\n",
       "      <td>2830.000000</td>\n",
       "      <td>970.000000</td>\n",
       "      <td>90840.000000</td>\n",
       "      <td>0.462224</td>\n",
       "      <td>0.821838</td>\n",
       "    </tr>\n",
       "    <tr>\n",
       "      <th>max</th>\n",
       "      <td>648000.000000</td>\n",
       "      <td>905173.000000</td>\n",
       "      <td>9.900000</td>\n",
       "      <td>107000.000000</td>\n",
       "      <td>577.000000</td>\n",
       "      <td>706.000000</td>\n",
       "      <td>1.000000</td>\n",
       "      <td>3110.000000</td>\n",
       "      <td>2551.000000</td>\n",
       "      <td>511735.000000</td>\n",
       "      <td>0.930222</td>\n",
       "      <td>1.177519</td>\n",
       "    </tr>\n",
       "  </tbody>\n",
       "</table>\n",
       "</div>"
      ],
      "text/plain": [
       "               price      new_price  complexOutlook       odograph  \\\n",
       "count     681.000000     681.000000      681.000000     681.000000   \n",
       "mean   117956.073421  187297.512482        8.643612   21939.794420   \n",
       "std     91533.066291  125594.625687        0.792868   19775.342325   \n",
       "min     14300.000000   31261.000000        6.000000     100.000000   \n",
       "25%     48800.000000   80107.000000        8.000000    6000.000000   \n",
       "50%     82400.000000  164774.000000        9.000000   17000.000000   \n",
       "75%    189800.000000  273256.000000        9.000000   33000.000000   \n",
       "max    648000.000000  905173.000000        9.900000  107000.000000   \n",
       "\n",
       "         allPower       range      isDome    wheelBase     daysGone  \\\n",
       "count  681.000000  677.000000  681.000000   681.000000   681.000000   \n",
       "mean   115.016740  359.274742    0.790015  2528.073421   621.754772   \n",
       "std     90.220023  145.652251    0.407597   355.396680   458.832451   \n",
       "min     15.000000  100.000000    0.000000  1600.000000    25.000000   \n",
       "25%     35.000000  270.000000    1.000000  2390.000000   270.000000   \n",
       "50%    100.000000  353.000000    1.000000  2610.000000   482.000000   \n",
       "75%    160.000000  468.000000    1.000000  2830.000000   970.000000   \n",
       "max    577.000000  706.000000    1.000000  3110.000000  2551.000000   \n",
       "\n",
       "               depri  depri_ratio  preserve_ratio  \n",
       "count     681.000000   681.000000      681.000000  \n",
       "mean    69433.723935     0.347268        0.653156  \n",
       "std     66082.538336     0.211918        0.212764  \n",
       "min         0.000000     0.000000        0.069778  \n",
       "25%     20307.000000     0.178162        0.537776  \n",
       "50%     54793.000000     0.297215        0.702785  \n",
       "75%     90840.000000     0.462224        0.821838  \n",
       "max    511735.000000     0.930222        1.177519  "
      ]
     },
     "execution_count": 428,
     "metadata": {},
     "output_type": "execute_result"
    }
   ],
   "source": [
    "allData.describe()"
   ]
  },
  {
   "cell_type": "markdown",
   "metadata": {},
   "source": [
    "## 数据分析"
   ]
  },
  {
   "cell_type": "markdown",
   "metadata": {},
   "source": [
    "### 1. 查看折价率为0的行  \n",
    "车辆的二手价格甚至超过了新车的价格，这是不常见的"
   ]
  },
  {
   "cell_type": "code",
   "execution_count": 437,
   "metadata": {},
   "outputs": [
    {
     "data": {
      "text/html": [
       "<div>\n",
       "<style scoped>\n",
       "    .dataframe tbody tr th:only-of-type {\n",
       "        vertical-align: middle;\n",
       "    }\n",
       "\n",
       "    .dataframe tbody tr th {\n",
       "        vertical-align: top;\n",
       "    }\n",
       "\n",
       "    .dataframe thead th {\n",
       "        text-align: right;\n",
       "    }\n",
       "</style>\n",
       "<table border=\"1\" class=\"dataframe\">\n",
       "  <thead>\n",
       "    <tr style=\"text-align: right;\">\n",
       "      <th></th>\n",
       "      <th>car_name</th>\n",
       "      <th>car_brand</th>\n",
       "      <th>car_tag</th>\n",
       "      <th>price</th>\n",
       "      <th>new_price</th>\n",
       "      <th>complexOutlook</th>\n",
       "      <th>firstCert</th>\n",
       "      <th>odograph</th>\n",
       "      <th>allPower</th>\n",
       "      <th>carBelong</th>\n",
       "      <th>range</th>\n",
       "      <th>isDome</th>\n",
       "      <th>wheelBase</th>\n",
       "      <th>drivingMode</th>\n",
       "      <th>daysGone</th>\n",
       "      <th>depri</th>\n",
       "      <th>depri_ratio</th>\n",
       "      <th>preserve_ratio</th>\n",
       "    </tr>\n",
       "  </thead>\n",
       "  <tbody>\n",
       "    <tr>\n",
       "      <th>524</th>\n",
       "      <td>特斯拉 Model Y 2022款 后轮驱动版</td>\n",
       "      <td>特斯拉</td>\n",
       "      <td>Model Y</td>\n",
       "      <td>385800</td>\n",
       "      <td>327638</td>\n",
       "      <td>9.9</td>\n",
       "      <td>2022-01-01</td>\n",
       "      <td>100.0</td>\n",
       "      <td>202.0</td>\n",
       "      <td>台州(浙)</td>\n",
       "      <td>NaN</td>\n",
       "      <td>0</td>\n",
       "      <td>2890</td>\n",
       "      <td>后置后驱</td>\n",
       "      <td>25</td>\n",
       "      <td>0</td>\n",
       "      <td>0.0</td>\n",
       "      <td>1.177519</td>\n",
       "    </tr>\n",
       "    <tr>\n",
       "      <th>575</th>\n",
       "      <td>五菱汽车 宏光MINI EV 2020款 悦享款 三元锂</td>\n",
       "      <td>五菱</td>\n",
       "      <td>宏光MINI EV</td>\n",
       "      <td>46800</td>\n",
       "      <td>42116</td>\n",
       "      <td>9.5</td>\n",
       "      <td>2021-03-01</td>\n",
       "      <td>15000.0</td>\n",
       "      <td>20.0</td>\n",
       "      <td>上海(沪)</td>\n",
       "      <td>170.0</td>\n",
       "      <td>1</td>\n",
       "      <td>1940</td>\n",
       "      <td>后置后驱</td>\n",
       "      <td>331</td>\n",
       "      <td>0</td>\n",
       "      <td>0.0</td>\n",
       "      <td>1.111217</td>\n",
       "    </tr>\n",
       "  </tbody>\n",
       "</table>\n",
       "</div>"
      ],
      "text/plain": [
       "                         car_name car_brand    car_tag   price  new_price  \\\n",
       "524       特斯拉 Model Y 2022款 后轮驱动版       特斯拉    Model Y  385800     327638   \n",
       "575  五菱汽车 宏光MINI EV 2020款 悦享款 三元锂        五菱  宏光MINI EV   46800      42116   \n",
       "\n",
       "     complexOutlook  firstCert  odograph  allPower carBelong  range  isDome  \\\n",
       "524             9.9 2022-01-01     100.0     202.0     台州(浙)    NaN       0   \n",
       "575             9.5 2021-03-01   15000.0      20.0     上海(沪)  170.0       1   \n",
       "\n",
       "     wheelBase drivingMode  daysGone  depri  depri_ratio  preserve_ratio  \n",
       "524       2890        后置后驱        25      0          0.0        1.177519  \n",
       "575       1940        后置后驱       331      0          0.0        1.111217  "
      ]
     },
     "execution_count": 437,
     "metadata": {},
     "output_type": "execute_result"
    }
   ],
   "source": [
    "allData[allData['preserve_ratio'] > 1]"
   ]
  },
  {
   "cell_type": "code",
   "execution_count": 441,
   "metadata": {},
   "outputs": [
    {
     "data": {
      "text/plain": [
       "array(['比亚迪', '大众', '宝马', '特斯拉', '江淮', '吉利', '理想', '五菱', '北汽新能源', '宝骏',\n",
       "       '传祺', '零跑汽车', '欧拉', '荣威', '天际汽车', '奇瑞', '知豆', '小鹏汽车', '广汽埃安',\n",
       "       '威马汽车', '思铭', '广汽集团', '红旗', '北汽昌河', '别克', '蔚来', '启辰', '东风', '腾势',\n",
       "       '丰田', '长安', '思皓', '理念', '奔驰', '东风风光', '江铃集团新能源', '海马', '开瑞', 'R汽车',\n",
       "       'HYCAN合创', '哪吒汽车', '雷克萨斯', '雷诺', '东风风行', '日产', '众泰', '现代',\n",
       "       'SERES赛力斯', '长安欧尚', '几何汽车', '猎豹', '奔腾', '新特汽车', '东南'], dtype=object)"
      ]
     },
     "execution_count": 441,
     "metadata": {},
     "output_type": "execute_result"
    }
   ],
   "source": [
    "allData['car_brand'].unique()"
   ]
  },
  {
   "cell_type": "code",
   "execution_count": null,
   "metadata": {},
   "outputs": [],
   "source": []
  }
 ],
 "metadata": {
  "interpreter": {
   "hash": "082e9a3bcad0a290d0001e938aa60b99250c6c2ef33a923c00b70f9826caf4b7"
  },
  "kernelspec": {
   "display_name": "",
   "language": "python",
   "name": "python3"
  },
  "language_info": {
   "codemirror_mode": {
    "name": "ipython",
    "version": 3
   },
   "file_extension": ".py",
   "mimetype": "text/x-python",
   "name": "python",
   "nbconvert_exporter": "python",
   "pygments_lexer": "ipython3",
   "version": "3.8.6rc1"
  },
  "orig_nbformat": 4
 },
 "nbformat": 4,
 "nbformat_minor": 2
}
